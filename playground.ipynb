{
 "cells": [
  {
   "cell_type": "code",
   "execution_count": 1,
   "metadata": {
    "is_executing": true
   },
   "outputs": [],
   "source": [
    "from Data import Data\n",
    "from RSig import RSig\n",
    "from Eval import Eval\n",
    "from RNearestNeighbour import RNearestNeighbour"
   ]
  },
  {
   "cell_type": "code",
   "execution_count": 2,
   "metadata": {},
   "outputs": [],
   "source": [
    "thres = 0.5\n",
    "sig_level= 2\n",
    "digit = 1\n",
    "path_to_pickle = \"./\""
   ]
  },
  {
   "cell_type": "code",
   "execution_count": 3,
   "metadata": {
    "is_executing": true
   },
   "outputs": [],
   "source": [
    "data = Data()\n",
    "corpus_sig = RSig()\n",
    "test_in_sig = RSig()\n",
    "test_out_sig = RSig()\n",
    "model = RNearestNeighbour(thres)\n",
    "model1 = RNearestNeighbour(thres, \"Mahalanobis\")"
   ]
  },
  {
   "cell_type": "code",
   "execution_count": 4,
   "metadata": {},
   "outputs": [],
   "source": [
    "data.load_pen_digit(digit, path_to_pickle)"
   ]
  },
  {
   "cell_type": "code",
   "execution_count": 5,
   "metadata": {},
   "outputs": [],
   "source": [
    "corpus_sig.load_stream(data.get_corpus())\n",
    "test_in_sig.load_stream(data.get_test_in())\n",
    "test_out_sig.load_stream(data.get_test_out())\n",
    "corpus_sig.sig_truncated(sig_level)\n",
    "test_in_sig.sig_truncated(sig_level)\n",
    "test_out_sig.sig_truncated(sig_level)"
   ]
  },
  {
   "cell_type": "code",
   "execution_count": 6,
   "metadata": {},
   "outputs": [],
   "source": [
    "model.fit(corpus_sig.sigs)"
   ]
  },
  {
   "cell_type": "code",
   "execution_count": 7,
   "metadata": {},
   "outputs": [],
   "source": [
    "evaluator = Eval(detector=model, corpus=corpus_sig.sigs, inlier=test_in_sig.sigs, outlier=test_out_sig.sigs)"
   ]
  },
  {
   "cell_type": "code",
   "execution_count": 8,
   "metadata": {},
   "outputs": [
    {
     "name": "stdout",
     "output_type": "stream",
     "text": [
      "accuracy 0.8319039451114922 precision 0.9347677595628415 recall 0.8733248245054244 FPR 0.5247252747252747 TPR 0.8733248245054244\n"
     ]
    }
   ],
   "source": [
    "evaluator.print_eval()"
   ]
  },
  {
   "cell_type": "code",
   "execution_count": 11,
   "metadata": {},
   "outputs": [],
   "source": [
    "model1.fit(corpus_sig.sigs)\n",
    "evaluator1 = Eval(detector=model1, corpus=corpus_sig.sigs, inlier=test_in_sig.sigs, outlier=test_out_sig.sigs)"
   ]
  },
  {
   "cell_type": "code",
   "execution_count": 12,
   "metadata": {},
   "outputs": [
    {
     "name": "stdout",
     "output_type": "stream",
     "text": [
      "accuracy 0.8770726129216695 precision 0.9325015994881638 recall 0.9301212507977026 FPR 0.5796703296703297 TPR 0.9301212507977026\n"
     ]
    }
   ],
   "source": [
    "evaluator1.print_eval()"
   ]
  },
  {
   "cell_type": "code",
   "execution_count": null,
   "metadata": {},
   "outputs": [],
   "source": []
  }
 ],
 "metadata": {
  "kernelspec": {
   "display_name": "env_M2",
   "language": "python",
   "name": "env_m2"
  },
  "language_info": {
   "codemirror_mode": {
    "name": "ipython",
    "version": 3
   },
   "file_extension": ".py",
   "mimetype": "text/x-python",
   "name": "python",
   "nbconvert_exporter": "python",
   "pygments_lexer": "ipython3",
   "version": "3.8.17"
  }
 },
 "nbformat": 4,
 "nbformat_minor": 4
}
