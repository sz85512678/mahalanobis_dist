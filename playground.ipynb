{
 "cells": [
  {
   "cell_type": "code",
   "execution_count": 1,
   "metadata": {
    "is_executing": true
   },
   "outputs": [],
   "source": [
    "from Data import Data\n",
    "from RSig import RSig\n",
    "from Eval import Eval\n",
    "from RNearestNeighbour import RNearestNeighbour"
   ]
  },
  {
   "cell_type": "code",
   "execution_count": 2,
   "metadata": {},
   "outputs": [],
   "source": [
    "thres = 0.5\n",
    "sig_level= 2\n",
    "digit = 1\n",
    "path_to_pickle = \"./\""
   ]
  },
  {
   "cell_type": "code",
   "execution_count": 3,
   "metadata": {
    "is_executing": true
   },
   "outputs": [],
   "source": [
    "data = Data()\n",
    "corpus_sig = RSig()\n",
    "test_in_sig = RSig()\n",
    "test_out_sig = RSig()\n",
    "model = RNearestNeighbour(thres)\n",
    "model1 = RNearestNeighbour(thres, \"Mahalanobis\")"
   ]
  },
  {
   "cell_type": "code",
   "execution_count": 4,
   "metadata": {},
   "outputs": [],
   "source": [
    "data.load_pen_digit(digit, path_to_pickle)"
   ]
  },
  {
   "cell_type": "code",
   "execution_count": 5,
   "metadata": {},
   "outputs": [],
   "source": [
    "corpus_sig.load_stream(data.get_corpus())\n",
    "test_in_sig.load_stream(data.get_test_in())\n",
    "test_out_sig.load_stream(data.get_test_out())\n",
    "corpus_sig.sig_truncated(sig_level)\n",
    "test_in_sig.sig_truncated(sig_level)\n",
    "test_out_sig.sig_truncated(sig_level)"
   ]
  },
  {
   "cell_type": "code",
   "execution_count": 6,
   "metadata": {},
   "outputs": [],
   "source": [
    "model.fit(corpus_sig.sigs)"
   ]
  },
  {
   "cell_type": "code",
   "execution_count": 7,
   "metadata": {},
   "outputs": [],
   "source": [
    "evaluator = Eval(detector=model, corpus=corpus_sig.sigs, inlier=test_in_sig.sigs, outlier=test_out_sig.sigs)"
   ]
  },
  {
   "cell_type": "code",
   "execution_count": 8,
   "metadata": {},
   "outputs": [
    {
     "name": "stdout",
     "output_type": "stream",
     "text": [
      "accuracy 0.10405946255002858 precision nan recall 0.0 FPR 0.0 TPR 0.0\n"
     ]
    },
    {
     "name": "stderr",
     "output_type": "stream",
     "text": [
      "/Users/zoos/PycharmProjects/pythonProject/Eval.py:30: RuntimeWarning: invalid value encountered in long_scalars\n",
      "  precision = TP/(TP + FP)\n"
     ]
    }
   ],
   "source": [
    "evaluator.print_eval()"
   ]
  },
  {
   "cell_type": "code",
   "execution_count": 9,
   "metadata": {},
   "outputs": [],
   "source": [
    "model1.fit(corpus_sig.sigs)\n",
    "evaluator1 = Eval(detector=model1, corpus=corpus_sig.sigs, inlier=test_in_sig.sigs, outlier=test_out_sig.sigs)"
   ]
  },
  {
   "cell_type": "code",
   "execution_count": 10,
   "metadata": {},
   "outputs": [
    {
     "name": "stdout",
     "output_type": "stream",
     "text": [
      "[5.89072000e-16 6.80174078e-16 5.35327598e-16 4.61207517e-16\n",
      " 6.18997600e-16 5.99553751e-16 6.68663211e-16 6.44412678e-16\n",
      " 6.56886920e-16 6.42530982e-16]\n",
      "[[ True]\n",
      " [ True]\n",
      " [False]\n",
      " [ True]\n",
      " [False]\n",
      " [ True]\n",
      " [ True]\n",
      " [ True]\n",
      " [ True]\n",
      " [ True]]\n",
      "[5.63722915e-16 6.23115425e-16 6.28442172e-16 5.68651410e-16\n",
      " 3.44202989e-16 6.60285686e-16 7.45395910e-16 5.73874933e-16\n",
      " 6.14518814e-16 5.84356210e-16]\n",
      "[[ True]\n",
      " [ True]\n",
      " [ True]\n",
      " [ True]\n",
      " [ True]\n",
      " [ True]\n",
      " [ True]\n",
      " [ True]\n",
      " [ True]\n",
      " [ True]]\n",
      "accuracy 0.8959405374499714 precision 0.8959405374499714 recall 1.0 FPR 1.0 TPR 1.0\n"
     ]
    }
   ],
   "source": [
    "evaluator1.print_eval()"
   ]
  },
  {
   "cell_type": "code",
   "execution_count": null,
   "metadata": {},
   "outputs": [],
   "source": []
  }
 ],
 "metadata": {
  "kernelspec": {
   "display_name": "env_M2",
   "language": "python",
   "name": "env_m2"
  },
  "language_info": {
   "codemirror_mode": {
    "name": "ipython",
    "version": 3
   },
   "file_extension": ".py",
   "mimetype": "text/x-python",
   "name": "python",
   "nbconvert_exporter": "python",
   "pygments_lexer": "ipython3",
   "version": "3.8.17"
  }
 },
 "nbformat": 4,
 "nbformat_minor": 4
}
